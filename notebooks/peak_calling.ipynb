{
 "cells": [
  {
   "cell_type": "code",
   "execution_count": 3,
   "id": "506f008a-5da4-42a3-952a-b125d3d87f80",
   "metadata": {
    "tags": []
   },
   "outputs": [],
   "source": [
    "%load_ext autoreload\n",
    "%autoreload 2"
   ]
  },
  {
   "cell_type": "code",
   "execution_count": 4,
   "id": "789edd98-ac04-4532-a175-27685e2832b8",
   "metadata": {
    "tags": []
   },
   "outputs": [],
   "source": [
    "import transcription_factor_activity as tf"
   ]
  },
  {
   "cell_type": "code",
   "execution_count": 10,
   "id": "007488c8-7139-4db8-8b47-c1cfc030889a",
   "metadata": {
    "tags": []
   },
   "outputs": [],
   "source": [
    "import muon \n",
    "import scanpy as sc\n",
    "import os"
   ]
  },
  {
   "cell_type": "code",
   "execution_count": 14,
   "id": "c6924e26-6b64-4a4a-bf72-ef010f637349",
   "metadata": {
    "tags": []
   },
   "outputs": [],
   "source": [
    "data_path = '/data/ceph/hdd/project/node_10/transcription_factor_activity/data/neurips/processed/s1d1/separated'"
   ]
  },
  {
   "cell_type": "code",
   "execution_count": 19,
   "id": "71b37527-ba4f-4d62-8fb2-1979d9cc8e05",
   "metadata": {
    "tags": []
   },
   "outputs": [],
   "source": [
    "fragment_files = [os.path.join(data_path, 's1d1_B1_B.tsv.gz'), os.path.join(data_path, 's1d1_Normoblast.tsv.gz')]"
   ]
  },
  {
   "cell_type": "code",
   "execution_count": 48,
   "id": "4fd97777-9577-4b44-8cd2-2df5a614ec0d",
   "metadata": {
    "tags": []
   },
   "outputs": [
    {
     "name": "stdout",
     "output_type": "stream",
     "text": [
      "/opt/modules/i12g/anaconda/envs/muon/bin/macs2 callpeak -t /data/ceph/hdd/project/node_10/transcription_factor_activity/data/neurips/processed/s1d1/separated/s1d1_Normoblast.tsv.gz -f BED -g 2700000000.0 -p 0.01  --nomodel --extsize 150 --shift -75 -n /data/ceph/hdd/project/node_10/transcription_factor_activity/data/neurips/processed/s1d1/separated/s1d1_Normoblast -B --SPMR --keep-dup all --call-summits \n"
     ]
    },
    {
     "name": "stderr",
     "output_type": "stream",
     "text": [
      "INFO  @ Tue, 04 Jul 2023 11:25:28: \n",
      "# Command line: callpeak -t /data/ceph/hdd/project/node_10/transcription_factor_activity/data/neurips/processed/s1d1/separated/s1d1_Normoblast.tsv.gz -f BED -g 2700000000.0 -p 0.01 --nomodel --extsize 150 --shift -75 -n /data/ceph/hdd/project/node_10/transcription_factor_activity/data/neurips/processed/s1d1/separated/s1d1_Normoblast -B --SPMR --keep-dup all --call-summits\n",
      "# ARGUMENTS LIST:\n",
      "# name = /data/ceph/hdd/project/node_10/transcription_factor_activity/data/neurips/processed/s1d1/separated/s1d1_Normoblast\n",
      "# format = BED\n",
      "# ChIP-seq file = ['/data/ceph/hdd/project/node_10/transcription_factor_activity/data/neurips/processed/s1d1/separated/s1d1_Normoblast.tsv.gz']\n",
      "# control file = None\n",
      "# effective genome size = 2.70e+09\n",
      "# band width = 300\n",
      "# model fold = [5, 50]\n",
      "# pvalue cutoff = 1.00e-02\n",
      "# qvalue will not be calculated and reported as -1 in the final output.\n",
      "# The maximum gap between significant sites is assigned as the read length/tag size.\n",
      "# The minimum length of peaks is assigned as the predicted fragment length \"d\".\n",
      "# Larger dataset will be scaled towards smaller dataset.\n",
      "# Range for calculating regional lambda is: 10000 bps\n",
      "# Broad region calling is off\n",
      "# Paired-End mode is off\n",
      "# Searching for subpeak summits is on\n",
      "# MACS will save fragment pileup signal per million reads\n",
      " \n",
      "INFO  @ Tue, 04 Jul 2023 11:25:28: #1 read tag files... \n",
      "INFO  @ Tue, 04 Jul 2023 11:25:28: #1 read treatment tags... \n",
      "INFO  @ Tue, 04 Jul 2023 11:25:29:  1000000 \n",
      "INFO  @ Tue, 04 Jul 2023 11:25:29: #1 tag size is determined as 108 bps \n",
      "INFO  @ Tue, 04 Jul 2023 11:25:29: #1 tag size = 108.0 \n",
      "INFO  @ Tue, 04 Jul 2023 11:25:29: #1  total tags in treatment: 1483627 \n",
      "INFO  @ Tue, 04 Jul 2023 11:25:29: #1 finished! \n",
      "INFO  @ Tue, 04 Jul 2023 11:25:29: #2 Build Peak Model... \n",
      "INFO  @ Tue, 04 Jul 2023 11:25:29: #2 Skipped... \n",
      "INFO  @ Tue, 04 Jul 2023 11:25:29: #2 Use 150 as fragment length \n",
      "INFO  @ Tue, 04 Jul 2023 11:25:29: #2 Sequencing ends will be shifted towards 5' by 75 bp(s) \n",
      "INFO  @ Tue, 04 Jul 2023 11:25:29: #3 Call peaks... \n",
      "INFO  @ Tue, 04 Jul 2023 11:25:29: #3 Going to call summits inside each peak ... \n",
      "INFO  @ Tue, 04 Jul 2023 11:25:29: #3 Call peaks with given -log10pvalue cutoff: 2.00000 ... \n",
      "INFO  @ Tue, 04 Jul 2023 11:25:29: #3 Pre-compute pvalue-qvalue table... \n",
      "INFO  @ Tue, 04 Jul 2023 11:25:31: #3 In the peak calling step, the following will be performed simultaneously: \n",
      "INFO  @ Tue, 04 Jul 2023 11:25:31: #3   Write bedGraph files for treatment pileup (after scaling if necessary)... /data/ceph/hdd/project/node_10/transcription_factor_activity/data/neurips/processed/s1d1/separated/s1d1_Normoblast_treat_pileup.bdg \n",
      "INFO  @ Tue, 04 Jul 2023 11:25:31: #3   Write bedGraph files for control lambda (after scaling if necessary)... /data/ceph/hdd/project/node_10/transcription_factor_activity/data/neurips/processed/s1d1/separated/s1d1_Normoblast_control_lambda.bdg \n",
      "INFO  @ Tue, 04 Jul 2023 11:25:31: #3   --SPMR is requested, so pileup will be normalized by sequencing depth in million reads. \n",
      "INFO  @ Tue, 04 Jul 2023 11:25:31: #3 Call peaks for each chromosome... \n",
      "INFO  @ Tue, 04 Jul 2023 11:26:29: #4 Write output xls file... /data/ceph/hdd/project/node_10/transcription_factor_activity/data/neurips/processed/s1d1/separated/s1d1_Normoblast_peaks.xls \n",
      "INFO  @ Tue, 04 Jul 2023 11:26:30: #4 Write peak in narrowPeak format file... /data/ceph/hdd/project/node_10/transcription_factor_activity/data/neurips/processed/s1d1/separated/s1d1_Normoblast_peaks.narrowPeak \n",
      "INFO  @ Tue, 04 Jul 2023 11:26:31: #4 Write summits bed file... /data/ceph/hdd/project/node_10/transcription_factor_activity/data/neurips/processed/s1d1/separated/s1d1_Normoblast_summits.bed \n",
      "INFO  @ Tue, 04 Jul 2023 11:26:31: Done! \n"
     ]
    }
   ],
   "source": [
    "tf.pp.call_peaks(\n",
    "    fragpaths = fragment_files[1],\n",
    "    outdir = os.path.join(data_path, 's1d1_Normoblast'),\n",
    "    extsize = 150,\n",
    "    kwargs = {'B': True, '-SPMR': True, '-keep-dup': 'all', '-call-summits': True}\n",
    ")"
   ]
  },
  {
   "cell_type": "code",
   "execution_count": null,
   "id": "102be6b1-4c41-4951-880e-449f1c96adb6",
   "metadata": {},
   "outputs": [],
   "source": []
  }
 ],
 "metadata": {
  "kernelspec": {
   "display_name": "Python [conda env:anaconda-muon]",
   "language": "python",
   "name": "conda-env-anaconda-muon-py"
  },
  "language_info": {
   "codemirror_mode": {
    "name": "ipython",
    "version": 3
   },
   "file_extension": ".py",
   "mimetype": "text/x-python",
   "name": "python",
   "nbconvert_exporter": "python",
   "pygments_lexer": "ipython3",
   "version": "3.11.4"
  }
 },
 "nbformat": 4,
 "nbformat_minor": 5
}
