{
 "cells": [
  {
   "cell_type": "code",
<<<<<<< HEAD
   "execution_count": 11,
=======
   "execution_count": 1,
>>>>>>> caf976c3b9f1ca24f2f1f2156d3731459678ba10
   "id": "506f008a-5da4-42a3-952a-b125d3d87f80",
   "metadata": {
    "tags": []
   },
<<<<<<< HEAD
   "outputs": [
    {
     "name": "stdout",
     "output_type": "stream",
     "text": [
      "The autoreload extension is already loaded. To reload it, use:\n",
      "  %reload_ext autoreload\n"
     ]
    }
   ],
=======
   "outputs": [],
>>>>>>> caf976c3b9f1ca24f2f1f2156d3731459678ba10
   "source": [
    "%load_ext autoreload\n",
    "%autoreload 2"
   ]
  },
  {
   "cell_type": "code",
<<<<<<< HEAD
   "execution_count": 12,
=======
   "execution_count": 2,
>>>>>>> caf976c3b9f1ca24f2f1f2156d3731459678ba10
   "id": "789edd98-ac04-4532-a175-27685e2832b8",
   "metadata": {
    "tags": []
   },
   "outputs": [],
   "source": [
    "import transcription_factor_activity as tf"
   ]
  },
  {
   "cell_type": "code",
<<<<<<< HEAD
   "execution_count": 13,
=======
   "execution_count": 3,
>>>>>>> caf976c3b9f1ca24f2f1f2156d3731459678ba10
   "id": "007488c8-7139-4db8-8b47-c1cfc030889a",
   "metadata": {
    "tags": []
   },
<<<<<<< HEAD
   "outputs": [],
=======
   "outputs": [
    {
     "name": "stderr",
     "output_type": "stream",
     "text": [
      "/opt/modules/i12g/anaconda/envs/muon/lib/python3.11/site-packages/umap/distances.py:1063: NumbaDeprecationWarning: The 'nopython' keyword argument was not supplied to the 'numba.jit' decorator. The implicit default value for this argument is currently False, but it will be changed to True in Numba 0.59.0. See https://numba.readthedocs.io/en/stable/reference/deprecation.html#deprecation-of-object-mode-fall-back-behaviour-when-using-jit for details.\n",
      "  @numba.jit()\n",
      "/opt/modules/i12g/anaconda/envs/muon/lib/python3.11/site-packages/umap/distances.py:1071: NumbaDeprecationWarning: The 'nopython' keyword argument was not supplied to the 'numba.jit' decorator. The implicit default value for this argument is currently False, but it will be changed to True in Numba 0.59.0. See https://numba.readthedocs.io/en/stable/reference/deprecation.html#deprecation-of-object-mode-fall-back-behaviour-when-using-jit for details.\n",
      "  @numba.jit()\n",
      "/opt/modules/i12g/anaconda/envs/muon/lib/python3.11/site-packages/umap/distances.py:1086: NumbaDeprecationWarning: The 'nopython' keyword argument was not supplied to the 'numba.jit' decorator. The implicit default value for this argument is currently False, but it will be changed to True in Numba 0.59.0. See https://numba.readthedocs.io/en/stable/reference/deprecation.html#deprecation-of-object-mode-fall-back-behaviour-when-using-jit for details.\n",
      "  @numba.jit()\n",
      "/opt/modules/i12g/anaconda/envs/muon/lib/python3.11/site-packages/tqdm/auto.py:21: TqdmWarning: IProgress not found. Please update jupyter and ipywidgets. See https://ipywidgets.readthedocs.io/en/stable/user_install.html\n",
      "  from .autonotebook import tqdm as notebook_tqdm\n",
      "/opt/modules/i12g/anaconda/envs/muon/lib/python3.11/site-packages/umap/umap_.py:660: NumbaDeprecationWarning: The 'nopython' keyword argument was not supplied to the 'numba.jit' decorator. The implicit default value for this argument is currently False, but it will be changed to True in Numba 0.59.0. See https://numba.readthedocs.io/en/stable/reference/deprecation.html#deprecation-of-object-mode-fall-back-behaviour-when-using-jit for details.\n",
      "  @numba.jit()\n"
     ]
    }
   ],
>>>>>>> caf976c3b9f1ca24f2f1f2156d3731459678ba10
   "source": [
    "import muon \n",
    "import scanpy as sc\n",
    "import os"
   ]
  },
  {
   "cell_type": "code",
<<<<<<< HEAD
   "execution_count": 14,
   "id": "3f18534a-84da-4cff-bb10-65c1e8301ea4",
   "metadata": {
    "tags": []
   },
   "outputs": [],
   "source": [
    "cell_type = \"Erythroblast\"\n",
    "batch = 'all'"
   ]
  },
  {
   "cell_type": "code",
   "execution_count": 8,
=======
   "execution_count": 4,
>>>>>>> caf976c3b9f1ca24f2f1f2156d3731459678ba10
   "id": "c6924e26-6b64-4a4a-bf72-ef010f637349",
   "metadata": {
    "tags": []
   },
   "outputs": [],
   "source": [
<<<<<<< HEAD
    "data_path = f'/data/ceph/hdd/project/node_10/transcription_factor_activity/data/neurips/processed/{batch}/separated'"
=======
    "data_path = '/data/ceph/hdd/project/node_10/transcription_factor_activity/data/neurips/processed/s1d1/separated'"
>>>>>>> caf976c3b9f1ca24f2f1f2156d3731459678ba10
   ]
  },
  {
   "cell_type": "code",
<<<<<<< HEAD
   "execution_count": 15,
=======
   "execution_count": 5,
>>>>>>> caf976c3b9f1ca24f2f1f2156d3731459678ba10
   "id": "71b37527-ba4f-4d62-8fb2-1979d9cc8e05",
   "metadata": {
    "tags": []
   },
   "outputs": [],
   "source": [
<<<<<<< HEAD
    "fragment_files = [os.path.join(data_path, f'{batch}_{cell_type}.tsv.gz')]"
=======
    "fragment_files = [os.path.join(data_path, 's1d1_B1_B.tsv.gz'), os.path.join(data_path, 's1d1_Normoblast.tsv.gz')]"
>>>>>>> caf976c3b9f1ca24f2f1f2156d3731459678ba10
   ]
  },
  {
   "cell_type": "code",
<<<<<<< HEAD
   "execution_count": 16,
=======
   "execution_count": null,
>>>>>>> caf976c3b9f1ca24f2f1f2156d3731459678ba10
   "id": "4fd97777-9577-4b44-8cd2-2df5a614ec0d",
   "metadata": {
    "tags": []
   },
   "outputs": [
    {
     "name": "stderr",
     "output_type": "stream",
     "text": [
<<<<<<< HEAD
      "INFO  @ Mon, 17 Jul 2023 22:36:21: \n",
      "# Command line: callpeak -t /data/ceph/hdd/project/node_10/transcription_factor_activity/data/neurips/processed/all/separated/all_Erythroblast.tsv.gz -f BED -g 2700000000.0 -p 0.01 --nomodel --extsize 150 --shift -75 -n /data/ceph/hdd/project/node_10/transcription_factor_activity/data/neurips/processed/all/separated/all_Erythroblast --SPMR --keep-dup=all --call-summits\n",
      "# ARGUMENTS LIST:\n",
      "# name = /data/ceph/hdd/project/node_10/transcription_factor_activity/data/neurips/processed/all/separated/all_Erythroblast\n",
      "# format = BED\n",
      "# ChIP-seq file = ['/data/ceph/hdd/project/node_10/transcription_factor_activity/data/neurips/processed/all/separated/all_Erythroblast.tsv.gz']\n",
=======
      "INFO  @ Tue, 04 Jul 2023 18:42:18: \n",
      "# Command line: callpeak -t /data/ceph/hdd/project/node_10/transcription_factor_activity/data/neurips/processed/s1d1/separated/s1d1_B1_B.tsv.gz -f BED -g 2700000000.0 -p 0.01 --nomodel --extsize 150 --shift -75 -n /data/ceph/hdd/project/node_10/transcription_factor_activity/data/neurips/processed/s1d1/separated/s1d1_B1_B --SPMR --keep-dup=all --call-summits\n",
      "# ARGUMENTS LIST:\n",
      "# name = /data/ceph/hdd/project/node_10/transcription_factor_activity/data/neurips/processed/s1d1/separated/s1d1_B1_B\n",
      "# format = BED\n",
      "# ChIP-seq file = ['/data/ceph/hdd/project/node_10/transcription_factor_activity/data/neurips/processed/s1d1/separated/s1d1_B1_B.tsv.gz']\n",
>>>>>>> caf976c3b9f1ca24f2f1f2156d3731459678ba10
      "# control file = None\n",
      "# effective genome size = 2.70e+09\n",
      "# band width = 300\n",
      "# model fold = [5, 50]\n",
      "# pvalue cutoff = 1.00e-02\n",
      "# qvalue will not be calculated and reported as -1 in the final output.\n",
      "# The maximum gap between significant sites is assigned as the read length/tag size.\n",
      "# The minimum length of peaks is assigned as the predicted fragment length \"d\".\n",
      "# Larger dataset will be scaled towards smaller dataset.\n",
      "# Range for calculating regional lambda is: 10000 bps\n",
      "# Broad region calling is off\n",
      "# Paired-End mode is off\n",
      "# Searching for subpeak summits is on\n",
      " \n",
<<<<<<< HEAD
      "INFO  @ Mon, 17 Jul 2023 22:36:21: #1 read tag files... \n",
      "INFO  @ Mon, 17 Jul 2023 22:36:21: #1 read treatment tags... \n",
      "INFO  @ Mon, 17 Jul 2023 22:36:22:  1000000 \n",
      "INFO  @ Mon, 17 Jul 2023 22:36:23:  2000000 \n",
      "INFO  @ Mon, 17 Jul 2023 22:36:24:  3000000 \n",
      "INFO  @ Mon, 17 Jul 2023 22:36:25:  4000000 \n",
      "INFO  @ Mon, 17 Jul 2023 22:36:26:  5000000 \n",
      "INFO  @ Mon, 17 Jul 2023 22:36:27:  6000000 \n",
      "INFO  @ Mon, 17 Jul 2023 22:36:28:  7000000 \n",
      "INFO  @ Mon, 17 Jul 2023 22:36:29:  8000000 \n",
      "INFO  @ Mon, 17 Jul 2023 22:36:30:  9000000 \n",
      "INFO  @ Mon, 17 Jul 2023 22:36:31:  10000000 \n",
      "INFO  @ Mon, 17 Jul 2023 22:36:32:  11000000 \n",
      "INFO  @ Mon, 17 Jul 2023 22:36:33:  12000000 \n",
      "INFO  @ Mon, 17 Jul 2023 22:36:34:  13000000 \n",
      "INFO  @ Mon, 17 Jul 2023 22:36:35:  14000000 \n",
      "INFO  @ Mon, 17 Jul 2023 22:36:36:  15000000 \n",
      "INFO  @ Mon, 17 Jul 2023 22:36:37:  16000000 \n",
      "INFO  @ Mon, 17 Jul 2023 22:36:38:  17000000 \n",
      "INFO  @ Mon, 17 Jul 2023 22:36:39:  18000000 \n",
      "INFO  @ Mon, 17 Jul 2023 22:36:40:  19000000 \n",
      "INFO  @ Mon, 17 Jul 2023 22:36:41:  20000000 \n",
      "INFO  @ Mon, 17 Jul 2023 22:36:43:  21000000 \n",
      "INFO  @ Mon, 17 Jul 2023 22:36:44:  22000000 \n",
      "INFO  @ Mon, 17 Jul 2023 22:36:45:  23000000 \n",
      "INFO  @ Mon, 17 Jul 2023 22:36:45:  24000000 \n",
      "INFO  @ Mon, 17 Jul 2023 22:36:46:  25000000 \n",
      "INFO  @ Mon, 17 Jul 2023 22:36:47:  26000000 \n",
      "INFO  @ Mon, 17 Jul 2023 22:36:48:  27000000 \n",
      "INFO  @ Mon, 17 Jul 2023 22:36:49:  28000000 \n",
      "INFO  @ Mon, 17 Jul 2023 22:36:50:  29000000 \n",
      "INFO  @ Mon, 17 Jul 2023 22:36:51:  30000000 \n",
      "INFO  @ Mon, 17 Jul 2023 22:36:52:  31000000 \n",
      "INFO  @ Mon, 17 Jul 2023 22:36:53:  32000000 \n",
      "INFO  @ Mon, 17 Jul 2023 22:36:54:  33000000 \n",
      "INFO  @ Mon, 17 Jul 2023 22:36:55:  34000000 \n",
      "INFO  @ Mon, 17 Jul 2023 22:36:56:  35000000 \n",
      "INFO  @ Mon, 17 Jul 2023 22:36:57:  36000000 \n",
      "INFO  @ Mon, 17 Jul 2023 22:36:58:  37000000 \n",
      "INFO  @ Mon, 17 Jul 2023 22:36:59:  38000000 \n",
      "INFO  @ Mon, 17 Jul 2023 22:37:00:  39000000 \n",
      "INFO  @ Mon, 17 Jul 2023 22:37:01:  40000000 \n",
      "INFO  @ Mon, 17 Jul 2023 22:37:02:  41000000 \n",
      "INFO  @ Mon, 17 Jul 2023 22:37:03:  42000000 \n",
      "INFO  @ Mon, 17 Jul 2023 22:37:04:  43000000 \n",
      "INFO  @ Mon, 17 Jul 2023 22:37:04:  44000000 \n",
      "INFO  @ Mon, 17 Jul 2023 22:37:05:  45000000 \n",
      "INFO  @ Mon, 17 Jul 2023 22:37:06:  46000000 \n",
      "INFO  @ Mon, 17 Jul 2023 22:37:07:  47000000 \n",
      "INFO  @ Mon, 17 Jul 2023 22:37:08:  48000000 \n",
      "INFO  @ Mon, 17 Jul 2023 22:37:09:  49000000 \n",
      "INFO  @ Mon, 17 Jul 2023 22:37:10:  50000000 \n",
      "INFO  @ Mon, 17 Jul 2023 22:37:11:  51000000 \n",
      "INFO  @ Mon, 17 Jul 2023 22:37:12:  52000000 \n",
      "INFO  @ Mon, 17 Jul 2023 22:37:13:  53000000 \n",
      "INFO  @ Mon, 17 Jul 2023 22:37:14:  54000000 \n",
      "INFO  @ Mon, 17 Jul 2023 22:37:15:  55000000 \n",
      "INFO  @ Mon, 17 Jul 2023 22:37:16:  56000000 \n",
      "INFO  @ Mon, 17 Jul 2023 22:37:17:  57000000 \n",
      "INFO  @ Mon, 17 Jul 2023 22:37:18:  58000000 \n",
      "INFO  @ Mon, 17 Jul 2023 22:37:19:  59000000 \n",
      "INFO  @ Mon, 17 Jul 2023 22:37:20:  60000000 \n",
      "INFO  @ Mon, 17 Jul 2023 22:37:21:  61000000 \n",
      "INFO  @ Mon, 17 Jul 2023 22:37:21:  62000000 \n",
      "INFO  @ Mon, 17 Jul 2023 22:37:22:  63000000 \n",
      "INFO  @ Mon, 17 Jul 2023 22:37:23:  64000000 \n",
      "INFO  @ Mon, 17 Jul 2023 22:37:24:  65000000 \n",
      "INFO  @ Mon, 17 Jul 2023 22:37:25:  66000000 \n",
      "INFO  @ Mon, 17 Jul 2023 22:37:26:  67000000 \n",
      "INFO  @ Mon, 17 Jul 2023 22:37:27:  68000000 \n",
      "INFO  @ Mon, 17 Jul 2023 22:37:28:  69000000 \n",
      "INFO  @ Mon, 17 Jul 2023 22:37:29:  70000000 \n",
      "INFO  @ Mon, 17 Jul 2023 22:37:30:  71000000 \n",
      "INFO  @ Mon, 17 Jul 2023 22:37:31:  72000000 \n",
      "INFO  @ Mon, 17 Jul 2023 22:37:33: #1 tag size is determined as 177 bps \n",
      "INFO  @ Mon, 17 Jul 2023 22:37:33: #1 tag size = 177.0 \n",
      "INFO  @ Mon, 17 Jul 2023 22:37:33: #1  total tags in treatment: 72309077 \n",
      "INFO  @ Mon, 17 Jul 2023 22:37:33: #1 finished! \n",
      "INFO  @ Mon, 17 Jul 2023 22:37:33: #2 Build Peak Model... \n",
      "INFO  @ Mon, 17 Jul 2023 22:37:33: #2 Skipped... \n",
      "INFO  @ Mon, 17 Jul 2023 22:37:33: #2 Use 150 as fragment length \n",
      "INFO  @ Mon, 17 Jul 2023 22:37:33: #2 Sequencing ends will be shifted towards 5' by 75 bp(s) \n",
      "INFO  @ Mon, 17 Jul 2023 22:37:33: #3 Call peaks... \n",
      "INFO  @ Mon, 17 Jul 2023 22:37:33: #3 Going to call summits inside each peak ... \n",
      "INFO  @ Mon, 17 Jul 2023 22:37:33: #3 Call peaks with given -log10pvalue cutoff: 2.00000 ... \n",
      "INFO  @ Mon, 17 Jul 2023 22:37:33: #3 Pre-compute pvalue-qvalue table... \n",
      "INFO  @ Mon, 17 Jul 2023 22:39:48: #3 Call peaks for each chromosome... \n",
      "INFO  @ Mon, 17 Jul 2023 22:41:03: #4 Write output xls file... /data/ceph/hdd/project/node_10/transcription_factor_activity/data/neurips/processed/all/separated/all_Erythroblast_peaks.xls \n",
      "INFO  @ Mon, 17 Jul 2023 22:41:03: #4 Write peak in narrowPeak format file... /data/ceph/hdd/project/node_10/transcription_factor_activity/data/neurips/processed/all/separated/all_Erythroblast_peaks.narrowPeak \n",
      "INFO  @ Mon, 17 Jul 2023 22:41:04: #4 Write summits bed file... /data/ceph/hdd/project/node_10/transcription_factor_activity/data/neurips/processed/all/separated/all_Erythroblast_summits.bed \n",
      "INFO  @ Mon, 17 Jul 2023 22:41:04: Done! \n"
=======
      "INFO  @ Tue, 04 Jul 2023 18:42:18: #1 read tag files... \n",
      "INFO  @ Tue, 04 Jul 2023 18:42:18: #1 read treatment tags... \n",
      "INFO  @ Tue, 04 Jul 2023 18:42:19:  1000000 \n",
      "INFO  @ Tue, 04 Jul 2023 18:42:20:  2000000 \n",
      "INFO  @ Tue, 04 Jul 2023 18:42:20: #1 tag size is determined as 128 bps \n",
      "INFO  @ Tue, 04 Jul 2023 18:42:20: #1 tag size = 128.0 \n",
      "INFO  @ Tue, 04 Jul 2023 18:42:20: #1  total tags in treatment: 2164147 \n",
      "INFO  @ Tue, 04 Jul 2023 18:42:20: #1 finished! \n",
      "INFO  @ Tue, 04 Jul 2023 18:42:20: #2 Build Peak Model... \n",
      "INFO  @ Tue, 04 Jul 2023 18:42:20: #2 Skipped... \n",
      "INFO  @ Tue, 04 Jul 2023 18:42:20: #2 Use 150 as fragment length \n",
      "INFO  @ Tue, 04 Jul 2023 18:42:20: #2 Sequencing ends will be shifted towards 5' by 75 bp(s) \n",
      "INFO  @ Tue, 04 Jul 2023 18:42:20: #3 Call peaks... \n",
      "INFO  @ Tue, 04 Jul 2023 18:42:20: #3 Going to call summits inside each peak ... \n",
      "INFO  @ Tue, 04 Jul 2023 18:42:20: #3 Call peaks with given -log10pvalue cutoff: 2.00000 ... \n",
      "INFO  @ Tue, 04 Jul 2023 18:42:20: #3 Pre-compute pvalue-qvalue table... \n",
      "INFO  @ Tue, 04 Jul 2023 18:42:22: #3 Call peaks for each chromosome... \n"
>>>>>>> caf976c3b9f1ca24f2f1f2156d3731459678ba10
     ]
    }
   ],
   "source": [
    "tf.pp.call_peaks(\n",
    "    fragpaths = fragment_files[0],\n",
<<<<<<< HEAD
    "    outdir = os.path.join(data_path, f'{batch}_{cell_type}'),\n",
    "    extsize = 150, #argument from ENCODE\n",
=======
    "    outdir = os.path.join(data_path, 's1d1_B1_B'),\n",
    "    extsize = 150,\n",
>>>>>>> caf976c3b9f1ca24f2f1f2156d3731459678ba10
    "    kwargs = {'SPMR': True, 'keep-dup': 'all', 'call-summits': True}, # arguments from ENCODE\n",
    "    mem_gb=20\n",
    ")"
   ]
  },
  {
   "cell_type": "code",
   "execution_count": null,
   "id": "102be6b1-4c41-4951-880e-449f1c96adb6",
   "metadata": {},
   "outputs": [],
   "source": []
  }
 ],
 "metadata": {
  "kernelspec": {
   "display_name": "Python [conda env:anaconda-muon]",
   "language": "python",
   "name": "conda-env-anaconda-muon-py"
  },
  "language_info": {
   "codemirror_mode": {
    "name": "ipython",
    "version": 3
   },
   "file_extension": ".py",
   "mimetype": "text/x-python",
   "name": "python",
   "nbconvert_exporter": "python",
   "pygments_lexer": "ipython3",
   "version": "3.11.4"
  }
 },
 "nbformat": 4,
 "nbformat_minor": 5
}
