{
 "cells": [
  {
   "cell_type": "code",
   "execution_count": 57,
   "id": "0d24e811-f004-4f59-946b-840d9b6198aa",
   "metadata": {},
   "outputs": [],
   "source": [
    "import gzip\n",
    "import os\n",
    "import scanpy as sc"
   ]
  },
  {
   "cell_type": "code",
   "execution_count": 58,
   "id": "1bd5005a-bd72-42c9-b128-300d60635121",
   "metadata": {
    "tags": []
   },
   "outputs": [],
   "source": [
    "# Specify desired cell type, batch number, path to input file and path to output file\n",
    "cell_type = \"Normoblast\"\n",
    "batch = \"s1d1\"\n",
    "input_path = \"/s/project/transcription_factor_activity/data/neurips/anndata/neurips_atac_modified.h5ad\"\n",
    "output_path = \"/s/project/transcription_factor_activity/data/neurips/processed/s1d1/separated/s1d1_Normoblast.tsv.gz\"\n",
    "\n",
    "barcodes = set()"
   ]
  },
  {
   "cell_type": "code",
   "execution_count": 59,
   "id": "c8889a98-62b1-4a11-bc75-23f9531e06e4",
   "metadata": {},
   "outputs": [],
   "source": [
    "# Read data to AnnData object\n",
    "adata = sc.read_h5ad(input_path)"
   ]
  },
  {
   "cell_type": "code",
   "execution_count": 68,
   "id": "b9b37b98-5cd2-4833-903b-1ec64916a8bb",
   "metadata": {
    "tags": []
   },
   "outputs": [],
   "source": [
    "# Get all cell barcodes corresponding to cell type\n",
    "for index, fragment in adata.obs.iterrows():\n",
    "    if fragment['batch'] == batch and fragment['neurips21_cell_type'] == cell_type:\n",
    "        barcodes.add(fragment['frag_file_bcs'])\n",
    "# for barcode in barcodes:\n",
    "#     print(barcode)"
   ]
  },
  {
   "cell_type": "code",
   "execution_count": 62,
   "id": "fd7a7fe1-f51c-4bde-8429-f148f7afdb89",
   "metadata": {
    "tags": []
   },
   "outputs": [],
   "source": [
    "# Open input file with gzip\n",
    "with gzip.open(input_file, 'rt') as f:\n",
    "    # Skip header lines starting with #\n",
    "    for line in f:\n",
    "        if not line.startswith('#'):\n",
    "            break\n",
    "    # Creat output file and handle\n",
    "    os.makedirs(os.path.dirname(output_path), exist_ok=True)\n",
    "    # Open the output file in write mode with gzip compression\n",
    "    output_handle = gzip.open(output_path, 'wt')\n",
    "\n",
    "    # Process each line in the input file\n",
    "    for line in f:\n",
    "        fields = line.strip().split('\\t')\n",
    "        cell_barcode = fields[3]  # Assuming cell barcode is in the fourth column\n",
    "\n",
    "        # Check if the cell barcode matches the desired cell type\n",
    "        if cell_barcode in barcodes:\n",
    "            # Write the line to the corresponding output file\n",
    "            output_handle.write(line)\n",
    "            \n",
    "    # Close output file handle\n",
    "    output_handle.close()"
   ]
  },
  {
   "cell_type": "code",
   "execution_count": 72,
   "id": "2af0d698-6f5a-4b3e-abd2-c6c443e4552d",
   "metadata": {
    "tags": []
   },
   "outputs": [
    {
     "name": "stdout",
     "output_type": "stream",
     "text": [
      "# id=libraries_neurips_site1_donor1\n",
      "# description=libraries_neurips_site1_donor1\n",
      "#\n",
      "# pipeline_name=cellranger-arc\n",
      "# pipeline_version=cellranger-arc-2.0.0\n",
      "#\n",
      "# reference_path=/mnt/15e1f33a-e47d-42f0-967d-b954cff90843/genome/reference/refdata-cellranger-arc-GRCh38-2020-A-2.0.0\n",
      "# reference_fasta_hash=b6f131840f9f337e7b858c3d1e89d7ce0321b243\n",
      "# reference_gtf_hash=3b4c36ca3bade222a5b53394e8c07a18db7ebb11\n",
      "# reference_version=2020-A\n",
      "# mkref_version=cellranger-arc-2.0.0\n",
      "#\n",
      "# primary_contig=chr1\n",
      "# primary_contig=chr10\n",
      "# primary_contig=chr11\n",
      "# primary_contig=chr12\n",
      "# primary_contig=chr13\n",
      "# primary_contig=chr14\n",
      "# primary_contig=chr15\n",
      "# primary_contig=chr16\n",
      "# primary_contig=chr17\n",
      "# primary_contig=chr18\n",
      "# primary_contig=chr19\n",
      "# primary_contig=chr2\n",
      "# primary_contig=chr20\n",
      "# primary_contig=chr21\n",
      "# primary_contig=chr22\n",
      "# primary_contig=chr3\n",
      "# primary_contig=chr4\n",
      "# primary_contig=chr5\n",
      "# primary_contig=chr6\n",
      "# primary_contig=chr7\n",
      "# primary_contig=chr8\n",
      "# primary_contig=chr9\n",
      "# primary_contig=chrX\n",
      "# primary_contig=chrY\n",
      "# primary_contig=KI270728.1\n",
      "# primary_contig=KI270727.1\n",
      "# primary_contig=GL000009.2\n",
      "# primary_contig=GL000194.1\n",
      "# primary_contig=GL000205.2\n",
      "# primary_contig=GL000195.1\n",
      "# primary_contig=GL000219.1\n",
      "# primary_contig=KI270734.1\n",
      "# primary_contig=GL000213.1\n",
      "# primary_contig=GL000218.1\n",
      "# primary_contig=KI270731.1\n",
      "# primary_contig=KI270721.1\n",
      "# primary_contig=KI270726.1\n",
      "# primary_contig=KI270711.1\n",
      "# primary_contig=KI270713.1\n",
      "chr1\t10067\t10198\tGTTGGCCAGTCAATTG-1\t1\n",
      "chr1\t10071\t10210\tCTGCTCCCATTATGCG-1\t1\n",
      "chr1\t10072\t10192\tCTGTATTTCACTAATG-1\t1\n",
      "chr1\t10073\t10198\tGTGTGTTAGTAGCTTA-1\t1\n",
      "chr1\t10076\t10339\tCCAAACCCAATCCCTT-1\t1\n",
      "chr1\t10078\t10279\tGTATGTGGTGGATTGC-1\t1\n",
      "chr1\t10079\t10278\tGAGCTGCTCTTGTCCA-1\t1\n",
      "chr1\t10079\t10308\tTCGGTTTGTGGTTCTT-1\t2\n",
      "chr1\t10084\t10278\tGTGAATCTCTCACACC-1\t1\n",
      "chr1\t10085\t10279\tTGCTATGCAATGAGGT-1\t1\n",
      "chr1\t10085\t10303\tGCTCACAAGGATTGAG-1\t1\n",
      "chr1\t10085\t10345\tTACTGACAGGAGCACG-1\t1\n",
      "chr1\t10090\t10284\tCCTGCTCCAAGCGATG-1\t1\n",
      "chr1\t10090\t10340\tTAGTGAGAGTTATGTG-1\t1\n",
      "chr1\t10091\t10303\tAATTAGGCAGCACGAA-1\t1\n",
      "chr1\t10091\t10309\tGAGGTACAGGGCCACT-1\t1\n",
      "chr1\t10091\t10334\tGCAGGAAGTGATTACG-1\t1\n",
      "chr1\t10091\t10478\tAGTGAACCACAGCCAT-1\t1\n",
      "chr1\t10097\t10284\tTTATCCGTCAATGACC-1\t1\n",
      "chr1\t10103\t10570\tCTCTAGCTCCCGAAGC-1\t2\n",
      "chr1\t10132\t10278\tAGCAAATAGCCAAATC-1\t1\n",
      "chr1\t10132\t10283\tGACTCACCAGGCAAGC-1\t1\n",
      "chr1\t10132\t10340\tGGTATTTCAGCCTGCA-1\t1\n",
      "chr1\t10132\t10346\tACCAAGCGTGCACGCA-1\t1\n",
      "chr1\t10132\t10352\tTTGTCAAAGCTATATG-1\t1\n",
      "chr1\t10137\t10216\tGCACGAACACCATATG-1\t1\n",
      "chr1\t10138\t10594\tATTGTGATCCTGATGG-1\t1\n",
      "chr1\t10147\t10210\tTTTGTGGCACTGACCG-1\t1\n",
      "chr1\t10150\t10186\tTTCATCCCACCGGTAT-1\t2\n",
      "chr1\t10151\t10185\tTTATAGCCAATAATGG-1\t1\n",
      "chr1\t10151\t10190\tATTTGTGAGTGAACAG-1\t2\n",
      "chr1\t10151\t10191\tATTCATGAGTACTGGT-1\t1\n",
      "chr1\t10151\t10192\tCTCTTGATCAAGCCTG-1\t1\n",
      "chr1\t10151\t10192\tGAGAACCAGGGTTATC-1\t1\n",
      "chr1\t10151\t10192\tTGATCACAGTTTCCTG-1\t1\n",
      "chr1\t10151\t10196\tTGAGCTTAGGATAAAC-1\t1\n",
      "chr1\t10151\t10204\tCTCATGCTCCATTACT-1\t1\n",
      "chr1\t10151\t10204\tCTGTTGGAGAACCTAC-1\t1\n",
      "chr1\t10151\t10204\tTCTAACCGTACCAGGT-1\t1\n",
      "chr1\t10151\t10208\tGTTTGTCGTTAACGGC-1\t1\n",
      "chr1\t10151\t10418\tTGACTCCTCTATCGCC-1\t1\n",
      "chr1\t10155\t10186\tTTAGGATGTGGTTAGC-1\t1\n",
      "chr1\t10155\t10210\tCGCATTACAAGTTATC-1\t1\n",
      "chr1\t10156\t10186\tAAGCTTGGTTGGTGAC-1\t2\n",
      "chr1\t10156\t10210\tGCCTTAACAGGCATCT-1\t1\n",
      "chr1\t10156\t10211\tGACATAGAGCTATTGA-1\t1\n",
      "chr1\t10156\t10215\tGGACTAAAGCATGACT-1\t1\n",
      "chr1\t10157\t10185\tAAGCAAGTCCTTAATC-1\t1\n",
      "chr1\t10157\t10185\tGGTTTGTAGAATGACG-1\t1\n"
     ]
    }
   ],
   "source": [
    "# Print lines for debugging\n",
    "import gzip\n",
    "\n",
    "# Define the input TSV.gz file path\n",
    "path = '/s/project/transcription_factor_activity/data/neurips/raw/s1d1/atac_fragments.tsv.gz'\n",
    "# path = output_path\n",
    "\n",
    "\n",
    "# Open file using gzip and print the first 100 lines\n",
    "with gzip.open(path, 'rt') as f:\n",
    "    for i in range(100):\n",
    "        line = f.readline()\n",
    "        print(line.strip())"
   ]
  },
  {
   "cell_type": "code",
   "execution_count": null,
   "id": "a64df5e8-4946-498f-ac0f-ba1dd52121fd",
   "metadata": {},
   "outputs": [],
   "source": []
  }
 ],
 "metadata": {
  "kernelspec": {
   "display_name": "tf_activity",
   "language": "python",
   "name": "tf_activity"
  },
  "language_info": {
   "codemirror_mode": {
    "name": "ipython",
    "version": 3
   },
   "file_extension": ".py",
   "mimetype": "text/x-python",
   "name": "python",
   "nbconvert_exporter": "python",
   "pygments_lexer": "ipython3",
   "version": "3.11.3"
  }
 },
 "nbformat": 4,
 "nbformat_minor": 5
}
